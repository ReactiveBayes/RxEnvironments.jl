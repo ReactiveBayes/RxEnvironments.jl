{
 "cells": [
  {
   "cell_type": "code",
   "execution_count": 5,
   "metadata": {},
   "outputs": [],
   "source": [
    "using RxEnvironments\n",
    "using Rocket"
   ]
  },
  {
   "cell_type": "code",
   "execution_count": 16,
   "metadata": {},
   "outputs": [],
   "source": [
    "using Distributions\n",
    "\n",
    "struct ThermostatAgent \n",
    "\n",
    "end\n",
    "\n",
    "struct ThermostatAction \n",
    "    action::Float64\n",
    "end\n",
    "\n",
    "\n",
    "mutable struct BayesianThermostat\n",
    "    temperature::Float64\n",
    "    min_temp::Float64\n",
    "    max_temp::Float64\n",
    "end\n",
    "\n",
    "min_temp(env::BayesianThermostat) = env.min_temp\n",
    "max_temp(env::BayesianThermostat) = env.max_temp\n",
    "noise(env::BayesianThermostat) = Normal(0.0, 0.1)\n",
    "\n",
    "\n",
    "function RxEnvironments.act!(env::BayesianThermostat, actor::ThermostatAgent, action::ThermostatAction)\n",
    "    value = action.action\n",
    "    env.temperature += value\n",
    "\n",
    "    if env.temperature < env.min_temp\n",
    "        env.temperature = env.min_temp\n",
    "    elseif env.temperature > env.max_temp\n",
    "        env.temperature = env.max_temp\n",
    "    end\n",
    "end\n",
    "\n",
    "function RxEnvironments.observe(receiver::ThermostatAgent, emitter::BayesianThermostat, stimulus)\n",
    "    return state(emitter) + rand(noise(emitter))\n",
    "end\n",
    "\n",
    "function RxEnvironments.update!(env::BayesianThermostat)\n",
    "    # Do nothing\n",
    "end\n",
    "\n",
    "function RxEnvironments.state(env::BayesianThermostat)\n",
    "    return env.temperature\n",
    "end\n",
    "\n"
   ]
  },
  {
   "cell_type": "code",
   "execution_count": 22,
   "metadata": {},
   "outputs": [
    {
     "name": "stdout",
     "output_type": "stream",
     "text": [
      "[LogActor] Data: (RxEnvironments.RxEnvironment(BayesianThermostat(1.0, -10.0, 10.0), RecentSubject(Any, Subject{Any, AsapScheduler, AsapScheduler}), Dict{AbstractEntity, Rocket.RecentSubjectInstance}(RxEnvironments.RxEntity(ThermostatAgent(), RecentSubject(Any, Subject{Any, AsapScheduler, AsapScheduler}), Dict{AbstractEntity, Rocket.RecentSubjectInstance}(RxEnvironments.RxEnvironment(#= circular reference @-4 =#) => RecentSubject(Any, Subject{Any, AsapScheduler, AsapScheduler}))) => RecentSubject(Any, Subject{Any, AsapScheduler, AsapScheduler}))), 1.1442432233333604)\n",
      "[LogActor] Data: (RxEnvironments.RxEnvironment(BayesianThermostat(2.0, -10.0, 10.0), RecentSubject(Any, Subject{Any, AsapScheduler, AsapScheduler}), Dict{AbstractEntity, Rocket.RecentSubjectInstance}(RxEnvironments.RxEntity(ThermostatAgent(), RecentSubject(Any, Subject{Any, AsapScheduler, AsapScheduler}), Dict{AbstractEntity, Rocket.RecentSubjectInstance}(RxEnvironments.RxEnvironment(#= circular reference @-4 =#) => RecentSubject(Any, Subject{Any, AsapScheduler, AsapScheduler}))) => RecentSubject(Any, Subject{Any, AsapScheduler, AsapScheduler}))), 2.08963680371549)\n",
      "[LogActor] Data: (RxEnvironments.RxEnvironment(BayesianThermostat(3.0, -10.0, 10.0), RecentSubject(Any, Subject{Any, AsapScheduler, AsapScheduler}), Dict{AbstractEntity, Rocket.RecentSubjectInstance}(RxEnvironments.RxEntity(ThermostatAgent(), RecentSubject(Any, Subject{Any, AsapScheduler, AsapScheduler}), Dict{AbstractEntity, Rocket.RecentSubjectInstance}(RxEnvironments.RxEnvironment(#= circular reference @-4 =#) => RecentSubject(Any, Subject{Any, AsapScheduler, AsapScheduler}))) => RecentSubject(Any, Subject{Any, AsapScheduler, AsapScheduler}))), 3.040639070205734)\n",
      "[LogActor] Data: (RxEnvironments.RxEnvironment(BayesianThermostat(4.0, -10.0, 10.0), RecentSubject(Any, Subject{Any, AsapScheduler, AsapScheduler}), Dict{AbstractEntity, Rocket.RecentSubjectInstance}(RxEnvironments.RxEntity(ThermostatAgent(), RecentSubject(Any, Subject{Any, AsapScheduler, AsapScheduler}), Dict{AbstractEntity, Rocket.RecentSubjectInstance}(RxEnvironments.RxEnvironment(#= circular reference @-4 =#) => RecentSubject(Any, Subject{Any, AsapScheduler, AsapScheduler}))) => RecentSubject(Any, Subject{Any, AsapScheduler, AsapScheduler}))), 3.9068388269793783)\n",
      "[LogActor] Data: (RxEnvironments.RxEnvironment(BayesianThermostat(5.0, -10.0, 10.0), RecentSubject(Any, Subject{Any, AsapScheduler, AsapScheduler}), Dict{AbstractEntity, Rocket.RecentSubjectInstance}(RxEnvironments.RxEntity(ThermostatAgent(), RecentSubject(Any, Subject{Any, AsapScheduler, AsapScheduler}), Dict{AbstractEntity, Rocket.RecentSubjectInstance}(RxEnvironments.RxEnvironment(#= circular reference @-4 =#) => RecentSubject(Any, Subject{Any, AsapScheduler, AsapScheduler}))) => RecentSubject(Any, Subject{Any, AsapScheduler, AsapScheduler}))), 4.944122842308256)\n",
      "[LogActor] Data: (RxEnvironments.RxEnvironment(BayesianThermostat(6.0, -10.0, 10.0), RecentSubject(Any, Subject{Any, AsapScheduler, AsapScheduler}), Dict{AbstractEntity, Rocket.RecentSubjectInstance}(RxEnvironments.RxEntity(ThermostatAgent(), RecentSubject(Any, Subject{Any, AsapScheduler, AsapScheduler}), Dict{AbstractEntity, Rocket.RecentSubjectInstance}(RxEnvironments.RxEnvironment(#= circular reference @-4 =#) => RecentSubject(Any, Subject{Any, AsapScheduler, AsapScheduler}))) => RecentSubject(Any, Subject{Any, AsapScheduler, AsapScheduler}))), 5.915850865649922)\n",
      "[LogActor] Data: (RxEnvironments.RxEnvironment(BayesianThermostat(7.0, -10.0, 10.0), RecentSubject(Any, Subject{Any, AsapScheduler, AsapScheduler}), Dict{AbstractEntity, Rocket.RecentSubjectInstance}(RxEnvironments.RxEntity(ThermostatAgent(), RecentSubject(Any, Subject{Any, AsapScheduler, AsapScheduler}), Dict{AbstractEntity, Rocket.RecentSubjectInstance}(RxEnvironments.RxEnvironment(#= circular reference @-4 =#) => RecentSubject(Any, Subject{Any, AsapScheduler, AsapScheduler}))) => RecentSubject(Any, Subject{Any, AsapScheduler, AsapScheduler}))), 6.974648059283454)\n",
      "[LogActor] Data: (RxEnvironments.RxEnvironment(BayesianThermostat(8.0, -10.0, 10.0), RecentSubject(Any, Subject{Any, AsapScheduler, AsapScheduler}), Dict{AbstractEntity, Rocket.RecentSubjectInstance}(RxEnvironments.RxEntity(ThermostatAgent(), RecentSubject(Any, Subject{Any, AsapScheduler, AsapScheduler}), Dict{AbstractEntity, Rocket.RecentSubjectInstance}(RxEnvironments.RxEnvironment(#= circular reference @-4 =#) => RecentSubject(Any, Subject{Any, AsapScheduler, AsapScheduler}))) => RecentSubject(Any, Subject{Any, AsapScheduler, AsapScheduler}))), 7.997769078801487)\n",
      "[LogActor] Data: (RxEnvironments.RxEnvironment(BayesianThermostat(9.0, -10.0, 10.0), RecentSubject(Any, Subject{Any, AsapScheduler, AsapScheduler}), Dict{AbstractEntity, Rocket.RecentSubjectInstance}(RxEnvironments.RxEntity(ThermostatAgent(), RecentSubject(Any, Subject{Any, AsapScheduler, AsapScheduler}), Dict{AbstractEntity, Rocket.RecentSubjectInstance}(RxEnvironments.RxEnvironment(#= circular reference @-4 =#) => RecentSubject(Any, Subject{Any, AsapScheduler, AsapScheduler}))) => RecentSubject(Any, Subject{Any, AsapScheduler, AsapScheduler}))), 8.869580982101223)\n",
      "[LogActor] Data: (RxEnvironments.RxEnvironment(BayesianThermostat(10.0, -10.0, 10.0), RecentSubject(Any, Subject{Any, AsapScheduler, AsapScheduler}), Dict{AbstractEntity, Rocket.RecentSubjectInstance}(RxEnvironments.RxEntity(ThermostatAgent(), RecentSubject(Any, Subject{Any, AsapScheduler, AsapScheduler}), Dict{AbstractEntity, Rocket.RecentSubjectInstance}(RxEnvironments.RxEnvironment(#= circular reference @-4 =#) => RecentSubject(Any, Subject{Any, AsapScheduler, AsapScheduler}))) => RecentSubject(Any, Subject{Any, AsapScheduler, AsapScheduler}))), 10.145569368311753)\n"
     ]
    }
   ],
   "source": [
    "environment = RxEnvironments.RxEnvironment(BayesianThermostat(0.0, -10, 10))\n",
    "entity = RxEnvironments.add!(environment, ThermostatAgent())\n",
    "subscribe!(RxEnvironments.observations(entity), logger())\n",
    "for i in 1:10\n",
    "    next!(entity, environment, ThermostatAction(1.0))\n",
    "end\n"
   ]
  },
  {
   "cell_type": "code",
   "execution_count": 16,
   "metadata": {},
   "outputs": [
    {
     "data": {
      "text/plain": [
       "SubjectSubscription()"
      ]
     },
     "metadata": {},
     "output_type": "display_data"
    }
   ],
   "source": []
  },
  {
   "cell_type": "code",
   "execution_count": 20,
   "metadata": {},
   "outputs": [
    {
     "data": {
      "text/plain": [
       "RxEnvironments.RxEntity(ThermostatAgent(), RecentSubject(Any, Rocket.Subject{Any, Rocket.AsapScheduler, Rocket.AsapScheduler}), Dict{AbstractEntity, Rocket.RecentSubjectInstance}(RxEnvironments.RxEnvironment(BayesianThermostat(0.0, -10.0, 10.0), RecentSubject(Any, Rocket.Subject{Any, Rocket.AsapScheduler, Rocket.AsapScheduler}), Dict{AbstractEntity, Rocket.RecentSubjectInstance}(RxEnvironments.RxEntity(#= circular reference @-4 =#) => RecentSubject(Any, Rocket.Subject{Any, Rocket.AsapScheduler, Rocket.AsapScheduler}))) => RecentSubject(Any, Rocket.Subject{Any, Rocket.AsapScheduler, Rocket.AsapScheduler})))"
      ]
     },
     "metadata": {},
     "output_type": "display_data"
    }
   ],
   "source": [
    "entity = first(keys(RxEnvironments.actions(environment)))"
   ]
  },
  {
   "cell_type": "code",
   "execution_count": null,
   "metadata": {},
   "outputs": [],
   "source": []
  }
 ],
 "metadata": {
  "kernelspec": {
   "display_name": "Julia 1.9.2",
   "language": "julia",
   "name": "julia-1.9"
  },
  "language_info": {
   "file_extension": ".jl",
   "mimetype": "application/julia",
   "name": "julia",
   "version": "1.9.2"
  },
  "orig_nbformat": 4
 },
 "nbformat": 4,
 "nbformat_minor": 2
}
